{
 "cells": [
  {
   "cell_type": "code",
   "execution_count": 1,
   "id": "1c4ebf9c",
   "metadata": {},
   "outputs": [],
   "source": [
    "# pip install opendatasets\n"
   ]
  },
  {
   "cell_type": "code",
   "execution_count": 2,
   "id": "163e0c5c",
   "metadata": {},
   "outputs": [],
   "source": [
    "# import opendatasets as od"
   ]
  },
  {
   "cell_type": "code",
   "execution_count": 3,
   "id": "3bf488cf",
   "metadata": {},
   "outputs": [],
   "source": [
    "# dataset = \"https://www.kaggle.com/datasets/yuanyuwendymu/airline-delay-and-cancellation-data-2009-2018\""
   ]
  },
  {
   "cell_type": "code",
   "execution_count": 4,
   "id": "8df3b1b3",
   "metadata": {},
   "outputs": [],
   "source": [
    "# od.download(dataset)"
   ]
  },
  {
   "cell_type": "code",
   "execution_count": 78,
   "id": "72602dd6",
   "metadata": {},
   "outputs": [],
   "source": [
    "data_dir = \"/Users/nirajsubedi/Downloads/data\""
   ]
  },
  {
   "cell_type": "code",
   "execution_count": 79,
   "id": "71f4f735",
   "metadata": {},
   "outputs": [],
   "source": [
    "import os"
   ]
  },
  {
   "cell_type": "code",
   "execution_count": 4,
   "id": "9b4a4d65",
   "metadata": {
    "scrolled": true
   },
   "outputs": [
    {
     "data": {
      "text/plain": [
       "['.DS_Store',\n",
       " '2018.csv',\n",
       " '2015.csv',\n",
       " '2014.csv',\n",
       " '2016.csv',\n",
       " '2017.csv',\n",
       " '2013.csv']"
      ]
     },
     "execution_count": 4,
     "metadata": {},
     "output_type": "execute_result"
    }
   ],
   "source": [
    "os.listdir(data_dir)"
   ]
  },
  {
   "cell_type": "code",
   "execution_count": 6,
   "id": "0690c08b",
   "metadata": {
    "scrolled": false
   },
   "outputs": [
    {
     "data": {
      "text/html": [
       "<div>\n",
       "<style scoped>\n",
       "    .dataframe tbody tr th:only-of-type {\n",
       "        vertical-align: middle;\n",
       "    }\n",
       "\n",
       "    .dataframe tbody tr th {\n",
       "        vertical-align: top;\n",
       "    }\n",
       "\n",
       "    .dataframe thead th {\n",
       "        text-align: right;\n",
       "    }\n",
       "</style>\n",
       "<table border=\"1\" class=\"dataframe\">\n",
       "  <thead>\n",
       "    <tr style=\"text-align: right;\">\n",
       "      <th></th>\n",
       "      <th>FL_DATE</th>\n",
       "      <th>OP_CARRIER</th>\n",
       "      <th>OP_CARRIER_FL_NUM</th>\n",
       "      <th>ORIGIN</th>\n",
       "      <th>DEST</th>\n",
       "      <th>CRS_DEP_TIME</th>\n",
       "      <th>DEP_TIME</th>\n",
       "      <th>DEP_DELAY</th>\n",
       "      <th>TAXI_OUT</th>\n",
       "      <th>WHEELS_OFF</th>\n",
       "      <th>...</th>\n",
       "      <th>CRS_ELAPSED_TIME</th>\n",
       "      <th>ACTUAL_ELAPSED_TIME</th>\n",
       "      <th>AIR_TIME</th>\n",
       "      <th>DISTANCE</th>\n",
       "      <th>CARRIER_DELAY</th>\n",
       "      <th>WEATHER_DELAY</th>\n",
       "      <th>NAS_DELAY</th>\n",
       "      <th>SECURITY_DELAY</th>\n",
       "      <th>LATE_AIRCRAFT_DELAY</th>\n",
       "      <th>Unnamed: 27</th>\n",
       "    </tr>\n",
       "  </thead>\n",
       "  <tbody>\n",
       "    <tr>\n",
       "      <th>0</th>\n",
       "      <td>2018-01-01</td>\n",
       "      <td>UA</td>\n",
       "      <td>2429</td>\n",
       "      <td>EWR</td>\n",
       "      <td>DEN</td>\n",
       "      <td>1517</td>\n",
       "      <td>1512.0</td>\n",
       "      <td>-5.0</td>\n",
       "      <td>15.0</td>\n",
       "      <td>1527.0</td>\n",
       "      <td>...</td>\n",
       "      <td>268.0</td>\n",
       "      <td>250.0</td>\n",
       "      <td>225.0</td>\n",
       "      <td>1605.0</td>\n",
       "      <td>NaN</td>\n",
       "      <td>NaN</td>\n",
       "      <td>NaN</td>\n",
       "      <td>NaN</td>\n",
       "      <td>NaN</td>\n",
       "      <td>NaN</td>\n",
       "    </tr>\n",
       "    <tr>\n",
       "      <th>1</th>\n",
       "      <td>2018-01-01</td>\n",
       "      <td>UA</td>\n",
       "      <td>2427</td>\n",
       "      <td>LAS</td>\n",
       "      <td>SFO</td>\n",
       "      <td>1115</td>\n",
       "      <td>1107.0</td>\n",
       "      <td>-8.0</td>\n",
       "      <td>11.0</td>\n",
       "      <td>1118.0</td>\n",
       "      <td>...</td>\n",
       "      <td>99.0</td>\n",
       "      <td>83.0</td>\n",
       "      <td>65.0</td>\n",
       "      <td>414.0</td>\n",
       "      <td>NaN</td>\n",
       "      <td>NaN</td>\n",
       "      <td>NaN</td>\n",
       "      <td>NaN</td>\n",
       "      <td>NaN</td>\n",
       "      <td>NaN</td>\n",
       "    </tr>\n",
       "    <tr>\n",
       "      <th>2</th>\n",
       "      <td>2018-01-01</td>\n",
       "      <td>UA</td>\n",
       "      <td>2426</td>\n",
       "      <td>SNA</td>\n",
       "      <td>DEN</td>\n",
       "      <td>1335</td>\n",
       "      <td>1330.0</td>\n",
       "      <td>-5.0</td>\n",
       "      <td>15.0</td>\n",
       "      <td>1345.0</td>\n",
       "      <td>...</td>\n",
       "      <td>134.0</td>\n",
       "      <td>126.0</td>\n",
       "      <td>106.0</td>\n",
       "      <td>846.0</td>\n",
       "      <td>NaN</td>\n",
       "      <td>NaN</td>\n",
       "      <td>NaN</td>\n",
       "      <td>NaN</td>\n",
       "      <td>NaN</td>\n",
       "      <td>NaN</td>\n",
       "    </tr>\n",
       "    <tr>\n",
       "      <th>3</th>\n",
       "      <td>2018-01-01</td>\n",
       "      <td>UA</td>\n",
       "      <td>2425</td>\n",
       "      <td>RSW</td>\n",
       "      <td>ORD</td>\n",
       "      <td>1546</td>\n",
       "      <td>1552.0</td>\n",
       "      <td>6.0</td>\n",
       "      <td>19.0</td>\n",
       "      <td>1611.0</td>\n",
       "      <td>...</td>\n",
       "      <td>190.0</td>\n",
       "      <td>182.0</td>\n",
       "      <td>157.0</td>\n",
       "      <td>1120.0</td>\n",
       "      <td>NaN</td>\n",
       "      <td>NaN</td>\n",
       "      <td>NaN</td>\n",
       "      <td>NaN</td>\n",
       "      <td>NaN</td>\n",
       "      <td>NaN</td>\n",
       "    </tr>\n",
       "    <tr>\n",
       "      <th>4</th>\n",
       "      <td>2018-01-01</td>\n",
       "      <td>UA</td>\n",
       "      <td>2424</td>\n",
       "      <td>ORD</td>\n",
       "      <td>ALB</td>\n",
       "      <td>630</td>\n",
       "      <td>650.0</td>\n",
       "      <td>20.0</td>\n",
       "      <td>13.0</td>\n",
       "      <td>703.0</td>\n",
       "      <td>...</td>\n",
       "      <td>112.0</td>\n",
       "      <td>106.0</td>\n",
       "      <td>83.0</td>\n",
       "      <td>723.0</td>\n",
       "      <td>NaN</td>\n",
       "      <td>NaN</td>\n",
       "      <td>NaN</td>\n",
       "      <td>NaN</td>\n",
       "      <td>NaN</td>\n",
       "      <td>NaN</td>\n",
       "    </tr>\n",
       "  </tbody>\n",
       "</table>\n",
       "<p>5 rows × 28 columns</p>\n",
       "</div>"
      ],
      "text/plain": [
       "      FL_DATE OP_CARRIER  OP_CARRIER_FL_NUM ORIGIN DEST  CRS_DEP_TIME  \\\n",
       "0  2018-01-01         UA               2429    EWR  DEN          1517   \n",
       "1  2018-01-01         UA               2427    LAS  SFO          1115   \n",
       "2  2018-01-01         UA               2426    SNA  DEN          1335   \n",
       "3  2018-01-01         UA               2425    RSW  ORD          1546   \n",
       "4  2018-01-01         UA               2424    ORD  ALB           630   \n",
       "\n",
       "   DEP_TIME  DEP_DELAY  TAXI_OUT  WHEELS_OFF  ...  CRS_ELAPSED_TIME  \\\n",
       "0    1512.0       -5.0      15.0      1527.0  ...             268.0   \n",
       "1    1107.0       -8.0      11.0      1118.0  ...              99.0   \n",
       "2    1330.0       -5.0      15.0      1345.0  ...             134.0   \n",
       "3    1552.0        6.0      19.0      1611.0  ...             190.0   \n",
       "4     650.0       20.0      13.0       703.0  ...             112.0   \n",
       "\n",
       "   ACTUAL_ELAPSED_TIME  AIR_TIME  DISTANCE  CARRIER_DELAY  WEATHER_DELAY  \\\n",
       "0                250.0     225.0    1605.0            NaN            NaN   \n",
       "1                 83.0      65.0     414.0            NaN            NaN   \n",
       "2                126.0     106.0     846.0            NaN            NaN   \n",
       "3                182.0     157.0    1120.0            NaN            NaN   \n",
       "4                106.0      83.0     723.0            NaN            NaN   \n",
       "\n",
       "  NAS_DELAY  SECURITY_DELAY  LATE_AIRCRAFT_DELAY  Unnamed: 27  \n",
       "0       NaN             NaN                  NaN          NaN  \n",
       "1       NaN             NaN                  NaN          NaN  \n",
       "2       NaN             NaN                  NaN          NaN  \n",
       "3       NaN             NaN                  NaN          NaN  \n",
       "4       NaN             NaN                  NaN          NaN  \n",
       "\n",
       "[5 rows x 28 columns]"
      ]
     },
     "execution_count": 6,
     "metadata": {},
     "output_type": "execute_result"
    }
   ],
   "source": [
    "\n",
    "import os\n",
    "import glob\n",
    "import pandas as pd\n",
    "\n",
    "# directory\n",
    "\n",
    "os.chdir(data_dir)\n",
    "\n",
    "\n",
    "extension = 'csv'\n",
    "\n",
    "all_filenames = [i for i in glob.glob('*.{}'.format(extension))]\n",
    "\n",
    "# Combining the files\n",
    "\n",
    "airline_df = pd.concat([pd.read_csv(f) for f in all_filenames])\n",
    "\n",
    "airline_df.head()"
   ]
  },
  {
   "cell_type": "code",
   "execution_count": 7,
   "id": "9051f5bf",
   "metadata": {},
   "outputs": [
    {
     "data": {
      "text/html": [
       "<div>\n",
       "<style scoped>\n",
       "    .dataframe tbody tr th:only-of-type {\n",
       "        vertical-align: middle;\n",
       "    }\n",
       "\n",
       "    .dataframe tbody tr th {\n",
       "        vertical-align: top;\n",
       "    }\n",
       "\n",
       "    .dataframe thead th {\n",
       "        text-align: right;\n",
       "    }\n",
       "</style>\n",
       "<table border=\"1\" class=\"dataframe\">\n",
       "  <thead>\n",
       "    <tr style=\"text-align: right;\">\n",
       "      <th></th>\n",
       "      <th>FL_DATE</th>\n",
       "      <th>OP_CARRIER</th>\n",
       "      <th>OP_CARRIER_FL_NUM</th>\n",
       "      <th>ORIGIN</th>\n",
       "      <th>DEST</th>\n",
       "      <th>CRS_DEP_TIME</th>\n",
       "      <th>DEP_TIME</th>\n",
       "      <th>DEP_DELAY</th>\n",
       "      <th>TAXI_OUT</th>\n",
       "      <th>WHEELS_OFF</th>\n",
       "      <th>...</th>\n",
       "      <th>CRS_ELAPSED_TIME</th>\n",
       "      <th>ACTUAL_ELAPSED_TIME</th>\n",
       "      <th>AIR_TIME</th>\n",
       "      <th>DISTANCE</th>\n",
       "      <th>CARRIER_DELAY</th>\n",
       "      <th>WEATHER_DELAY</th>\n",
       "      <th>NAS_DELAY</th>\n",
       "      <th>SECURITY_DELAY</th>\n",
       "      <th>LATE_AIRCRAFT_DELAY</th>\n",
       "      <th>Unnamed: 27</th>\n",
       "    </tr>\n",
       "  </thead>\n",
       "  <tbody>\n",
       "    <tr>\n",
       "      <th>0</th>\n",
       "      <td>2018-01-01</td>\n",
       "      <td>UA</td>\n",
       "      <td>2429</td>\n",
       "      <td>EWR</td>\n",
       "      <td>DEN</td>\n",
       "      <td>1517</td>\n",
       "      <td>1512.0</td>\n",
       "      <td>-5.0</td>\n",
       "      <td>15.0</td>\n",
       "      <td>1527.0</td>\n",
       "      <td>...</td>\n",
       "      <td>268.0</td>\n",
       "      <td>250.0</td>\n",
       "      <td>225.0</td>\n",
       "      <td>1605.0</td>\n",
       "      <td>NaN</td>\n",
       "      <td>NaN</td>\n",
       "      <td>NaN</td>\n",
       "      <td>NaN</td>\n",
       "      <td>NaN</td>\n",
       "      <td>NaN</td>\n",
       "    </tr>\n",
       "    <tr>\n",
       "      <th>1</th>\n",
       "      <td>2018-01-01</td>\n",
       "      <td>UA</td>\n",
       "      <td>2427</td>\n",
       "      <td>LAS</td>\n",
       "      <td>SFO</td>\n",
       "      <td>1115</td>\n",
       "      <td>1107.0</td>\n",
       "      <td>-8.0</td>\n",
       "      <td>11.0</td>\n",
       "      <td>1118.0</td>\n",
       "      <td>...</td>\n",
       "      <td>99.0</td>\n",
       "      <td>83.0</td>\n",
       "      <td>65.0</td>\n",
       "      <td>414.0</td>\n",
       "      <td>NaN</td>\n",
       "      <td>NaN</td>\n",
       "      <td>NaN</td>\n",
       "      <td>NaN</td>\n",
       "      <td>NaN</td>\n",
       "      <td>NaN</td>\n",
       "    </tr>\n",
       "    <tr>\n",
       "      <th>2</th>\n",
       "      <td>2018-01-01</td>\n",
       "      <td>UA</td>\n",
       "      <td>2426</td>\n",
       "      <td>SNA</td>\n",
       "      <td>DEN</td>\n",
       "      <td>1335</td>\n",
       "      <td>1330.0</td>\n",
       "      <td>-5.0</td>\n",
       "      <td>15.0</td>\n",
       "      <td>1345.0</td>\n",
       "      <td>...</td>\n",
       "      <td>134.0</td>\n",
       "      <td>126.0</td>\n",
       "      <td>106.0</td>\n",
       "      <td>846.0</td>\n",
       "      <td>NaN</td>\n",
       "      <td>NaN</td>\n",
       "      <td>NaN</td>\n",
       "      <td>NaN</td>\n",
       "      <td>NaN</td>\n",
       "      <td>NaN</td>\n",
       "    </tr>\n",
       "    <tr>\n",
       "      <th>3</th>\n",
       "      <td>2018-01-01</td>\n",
       "      <td>UA</td>\n",
       "      <td>2425</td>\n",
       "      <td>RSW</td>\n",
       "      <td>ORD</td>\n",
       "      <td>1546</td>\n",
       "      <td>1552.0</td>\n",
       "      <td>6.0</td>\n",
       "      <td>19.0</td>\n",
       "      <td>1611.0</td>\n",
       "      <td>...</td>\n",
       "      <td>190.0</td>\n",
       "      <td>182.0</td>\n",
       "      <td>157.0</td>\n",
       "      <td>1120.0</td>\n",
       "      <td>NaN</td>\n",
       "      <td>NaN</td>\n",
       "      <td>NaN</td>\n",
       "      <td>NaN</td>\n",
       "      <td>NaN</td>\n",
       "      <td>NaN</td>\n",
       "    </tr>\n",
       "    <tr>\n",
       "      <th>4</th>\n",
       "      <td>2018-01-01</td>\n",
       "      <td>UA</td>\n",
       "      <td>2424</td>\n",
       "      <td>ORD</td>\n",
       "      <td>ALB</td>\n",
       "      <td>630</td>\n",
       "      <td>650.0</td>\n",
       "      <td>20.0</td>\n",
       "      <td>13.0</td>\n",
       "      <td>703.0</td>\n",
       "      <td>...</td>\n",
       "      <td>112.0</td>\n",
       "      <td>106.0</td>\n",
       "      <td>83.0</td>\n",
       "      <td>723.0</td>\n",
       "      <td>NaN</td>\n",
       "      <td>NaN</td>\n",
       "      <td>NaN</td>\n",
       "      <td>NaN</td>\n",
       "      <td>NaN</td>\n",
       "      <td>NaN</td>\n",
       "    </tr>\n",
       "    <tr>\n",
       "      <th>...</th>\n",
       "      <td>...</td>\n",
       "      <td>...</td>\n",
       "      <td>...</td>\n",
       "      <td>...</td>\n",
       "      <td>...</td>\n",
       "      <td>...</td>\n",
       "      <td>...</td>\n",
       "      <td>...</td>\n",
       "      <td>...</td>\n",
       "      <td>...</td>\n",
       "      <td>...</td>\n",
       "      <td>...</td>\n",
       "      <td>...</td>\n",
       "      <td>...</td>\n",
       "      <td>...</td>\n",
       "      <td>...</td>\n",
       "      <td>...</td>\n",
       "      <td>...</td>\n",
       "      <td>...</td>\n",
       "      <td>...</td>\n",
       "      <td>...</td>\n",
       "    </tr>\n",
       "    <tr>\n",
       "      <th>6369477</th>\n",
       "      <td>2013-12-31</td>\n",
       "      <td>MQ</td>\n",
       "      <td>3271</td>\n",
       "      <td>IND</td>\n",
       "      <td>ORD</td>\n",
       "      <td>1100</td>\n",
       "      <td>1054.0</td>\n",
       "      <td>-6.0</td>\n",
       "      <td>14.0</td>\n",
       "      <td>1108.0</td>\n",
       "      <td>...</td>\n",
       "      <td>65.0</td>\n",
       "      <td>73.0</td>\n",
       "      <td>43.0</td>\n",
       "      <td>177.0</td>\n",
       "      <td>NaN</td>\n",
       "      <td>NaN</td>\n",
       "      <td>NaN</td>\n",
       "      <td>NaN</td>\n",
       "      <td>NaN</td>\n",
       "      <td>NaN</td>\n",
       "    </tr>\n",
       "    <tr>\n",
       "      <th>6369478</th>\n",
       "      <td>2013-12-31</td>\n",
       "      <td>MQ</td>\n",
       "      <td>3271</td>\n",
       "      <td>ORD</td>\n",
       "      <td>IND</td>\n",
       "      <td>830</td>\n",
       "      <td>829.0</td>\n",
       "      <td>-1.0</td>\n",
       "      <td>11.0</td>\n",
       "      <td>840.0</td>\n",
       "      <td>...</td>\n",
       "      <td>55.0</td>\n",
       "      <td>47.0</td>\n",
       "      <td>32.0</td>\n",
       "      <td>177.0</td>\n",
       "      <td>NaN</td>\n",
       "      <td>NaN</td>\n",
       "      <td>NaN</td>\n",
       "      <td>NaN</td>\n",
       "      <td>NaN</td>\n",
       "      <td>NaN</td>\n",
       "    </tr>\n",
       "    <tr>\n",
       "      <th>6369479</th>\n",
       "      <td>2013-12-31</td>\n",
       "      <td>MQ</td>\n",
       "      <td>3272</td>\n",
       "      <td>CLE</td>\n",
       "      <td>LGA</td>\n",
       "      <td>1050</td>\n",
       "      <td>1155.0</td>\n",
       "      <td>65.0</td>\n",
       "      <td>25.0</td>\n",
       "      <td>1220.0</td>\n",
       "      <td>...</td>\n",
       "      <td>95.0</td>\n",
       "      <td>91.0</td>\n",
       "      <td>63.0</td>\n",
       "      <td>419.0</td>\n",
       "      <td>61.0</td>\n",
       "      <td>0.0</td>\n",
       "      <td>0.0</td>\n",
       "      <td>0.0</td>\n",
       "      <td>0.0</td>\n",
       "      <td>NaN</td>\n",
       "    </tr>\n",
       "    <tr>\n",
       "      <th>6369480</th>\n",
       "      <td>2013-12-31</td>\n",
       "      <td>MQ</td>\n",
       "      <td>3272</td>\n",
       "      <td>LGA</td>\n",
       "      <td>CLE</td>\n",
       "      <td>825</td>\n",
       "      <td>815.0</td>\n",
       "      <td>-10.0</td>\n",
       "      <td>16.0</td>\n",
       "      <td>831.0</td>\n",
       "      <td>...</td>\n",
       "      <td>100.0</td>\n",
       "      <td>101.0</td>\n",
       "      <td>79.0</td>\n",
       "      <td>419.0</td>\n",
       "      <td>NaN</td>\n",
       "      <td>NaN</td>\n",
       "      <td>NaN</td>\n",
       "      <td>NaN</td>\n",
       "      <td>NaN</td>\n",
       "      <td>NaN</td>\n",
       "    </tr>\n",
       "    <tr>\n",
       "      <th>6369481</th>\n",
       "      <td>2013-12-31</td>\n",
       "      <td>MQ</td>\n",
       "      <td>3273</td>\n",
       "      <td>CMI</td>\n",
       "      <td>ORD</td>\n",
       "      <td>905</td>\n",
       "      <td>901.0</td>\n",
       "      <td>-4.0</td>\n",
       "      <td>24.0</td>\n",
       "      <td>925.0</td>\n",
       "      <td>...</td>\n",
       "      <td>60.0</td>\n",
       "      <td>66.0</td>\n",
       "      <td>33.0</td>\n",
       "      <td>135.0</td>\n",
       "      <td>NaN</td>\n",
       "      <td>NaN</td>\n",
       "      <td>NaN</td>\n",
       "      <td>NaN</td>\n",
       "      <td>NaN</td>\n",
       "      <td>NaN</td>\n",
       "    </tr>\n",
       "  </tbody>\n",
       "</table>\n",
       "<p>36514097 rows × 28 columns</p>\n",
       "</div>"
      ],
      "text/plain": [
       "            FL_DATE OP_CARRIER  OP_CARRIER_FL_NUM ORIGIN DEST  CRS_DEP_TIME  \\\n",
       "0        2018-01-01         UA               2429    EWR  DEN          1517   \n",
       "1        2018-01-01         UA               2427    LAS  SFO          1115   \n",
       "2        2018-01-01         UA               2426    SNA  DEN          1335   \n",
       "3        2018-01-01         UA               2425    RSW  ORD          1546   \n",
       "4        2018-01-01         UA               2424    ORD  ALB           630   \n",
       "...             ...        ...                ...    ...  ...           ...   \n",
       "6369477  2013-12-31         MQ               3271    IND  ORD          1100   \n",
       "6369478  2013-12-31         MQ               3271    ORD  IND           830   \n",
       "6369479  2013-12-31         MQ               3272    CLE  LGA          1050   \n",
       "6369480  2013-12-31         MQ               3272    LGA  CLE           825   \n",
       "6369481  2013-12-31         MQ               3273    CMI  ORD           905   \n",
       "\n",
       "         DEP_TIME  DEP_DELAY  TAXI_OUT  WHEELS_OFF  ...  CRS_ELAPSED_TIME  \\\n",
       "0          1512.0       -5.0      15.0      1527.0  ...             268.0   \n",
       "1          1107.0       -8.0      11.0      1118.0  ...              99.0   \n",
       "2          1330.0       -5.0      15.0      1345.0  ...             134.0   \n",
       "3          1552.0        6.0      19.0      1611.0  ...             190.0   \n",
       "4           650.0       20.0      13.0       703.0  ...             112.0   \n",
       "...           ...        ...       ...         ...  ...               ...   \n",
       "6369477    1054.0       -6.0      14.0      1108.0  ...              65.0   \n",
       "6369478     829.0       -1.0      11.0       840.0  ...              55.0   \n",
       "6369479    1155.0       65.0      25.0      1220.0  ...              95.0   \n",
       "6369480     815.0      -10.0      16.0       831.0  ...             100.0   \n",
       "6369481     901.0       -4.0      24.0       925.0  ...              60.0   \n",
       "\n",
       "         ACTUAL_ELAPSED_TIME  AIR_TIME  DISTANCE  CARRIER_DELAY  \\\n",
       "0                      250.0     225.0    1605.0            NaN   \n",
       "1                       83.0      65.0     414.0            NaN   \n",
       "2                      126.0     106.0     846.0            NaN   \n",
       "3                      182.0     157.0    1120.0            NaN   \n",
       "4                      106.0      83.0     723.0            NaN   \n",
       "...                      ...       ...       ...            ...   \n",
       "6369477                 73.0      43.0     177.0            NaN   \n",
       "6369478                 47.0      32.0     177.0            NaN   \n",
       "6369479                 91.0      63.0     419.0           61.0   \n",
       "6369480                101.0      79.0     419.0            NaN   \n",
       "6369481                 66.0      33.0     135.0            NaN   \n",
       "\n",
       "         WEATHER_DELAY NAS_DELAY  SECURITY_DELAY  LATE_AIRCRAFT_DELAY  \\\n",
       "0                  NaN       NaN             NaN                  NaN   \n",
       "1                  NaN       NaN             NaN                  NaN   \n",
       "2                  NaN       NaN             NaN                  NaN   \n",
       "3                  NaN       NaN             NaN                  NaN   \n",
       "4                  NaN       NaN             NaN                  NaN   \n",
       "...                ...       ...             ...                  ...   \n",
       "6369477            NaN       NaN             NaN                  NaN   \n",
       "6369478            NaN       NaN             NaN                  NaN   \n",
       "6369479            0.0       0.0             0.0                  0.0   \n",
       "6369480            NaN       NaN             NaN                  NaN   \n",
       "6369481            NaN       NaN             NaN                  NaN   \n",
       "\n",
       "         Unnamed: 27  \n",
       "0                NaN  \n",
       "1                NaN  \n",
       "2                NaN  \n",
       "3                NaN  \n",
       "4                NaN  \n",
       "...              ...  \n",
       "6369477          NaN  \n",
       "6369478          NaN  \n",
       "6369479          NaN  \n",
       "6369480          NaN  \n",
       "6369481          NaN  \n",
       "\n",
       "[36514097 rows x 28 columns]"
      ]
     },
     "execution_count": 7,
     "metadata": {},
     "output_type": "execute_result"
    }
   ],
   "source": [
    "airline_df"
   ]
  },
  {
   "cell_type": "code",
   "execution_count": 8,
   "id": "ef8506c5",
   "metadata": {},
   "outputs": [
    {
     "name": "stdout",
     "output_type": "stream",
     "text": [
      "Requirement already satisfied: pyspark in /Users/nirajsubedi/anaconda3/lib/python3.10/site-packages (3.4.1)\r\n",
      "Requirement already satisfied: py4j==0.10.9.7 in /Users/nirajsubedi/anaconda3/lib/python3.10/site-packages (from pyspark) (0.10.9.7)\r\n"
     ]
    }
   ],
   "source": [
    "!pip install pyspark\n",
    "\n",
    "import altair as alt\n",
    "\n",
    "from pyspark import SparkContext, SparkConf\n",
    "from pyspark.sql import SparkSession\n",
    "\n",
    "import pyspark.sql.functions as F\n",
    "import pyspark.sql.types as T \n",
    "from pyspark.ml.feature import OneHotEncoder, StringIndexer, VectorAssembler\n",
    "from pyspark.ml import Pipeline\n",
    "from pyspark.ml.classification import LogisticRegression, DecisionTreeClassifier, RandomForestClassifier, GBTClassifier\n",
    "from pyspark.ml.evaluation import BinaryClassificationEvaluator, MulticlassClassificationEvaluator\n",
    "\n",
    "import warnings\n",
    "warnings.filterwarnings('ignore')"
   ]
  },
  {
   "cell_type": "code",
   "execution_count": 9,
   "id": "f238a37e",
   "metadata": {},
   "outputs": [
    {
     "name": "stderr",
     "output_type": "stream",
     "text": [
      "23/09/02 14:55:28 WARN Utils: Your hostname, Nirajs-MacBook-Air.local resolves to a loopback address: 127.0.0.1; using 192.168.1.67 instead (on interface en0)\n",
      "23/09/02 14:55:28 WARN Utils: Set SPARK_LOCAL_IP if you need to bind to another address\n",
      "Setting default log level to \"WARN\".\n",
      "To adjust logging level use sc.setLogLevel(newLevel). For SparkR, use setLogLevel(newLevel).\n",
      "23/09/02 14:55:29 WARN NativeCodeLoader: Unable to load native-hadoop library for your platform... using builtin-java classes where applicable\n"
     ]
    }
   ],
   "source": [
    "# initialize sparkSession\n",
    "spark = SparkSession.builder.config(\"spark.executor.memory\",\"2g\").getOrCreate()\n",
    "spark.sparkContext.setLogLevel(\"ERROR\")"
   ]
  },
  {
   "cell_type": "code",
   "execution_count": 10,
   "id": "b3801fff",
   "metadata": {},
   "outputs": [],
   "source": [
    "spark.catalog.clearCache()"
   ]
  },
  {
   "cell_type": "code",
   "execution_count": 11,
   "id": "ea3fc5e6",
   "metadata": {},
   "outputs": [],
   "source": [
    "# file_names_range = list(range(2013, 2016))\n",
    "# file_paths = [f'./Users/nirajsubedi/Downloads/data' for file in file_names_range]\n",
    "\n",
    "file_paths = [data_dir]\n",
    "\n",
    "# # file_names_range = list(range(2009, 2016))\n",
    "# file_paths = [airline_df]\n"
   ]
  },
  {
   "cell_type": "code",
   "execution_count": 12,
   "id": "d61e8c10",
   "metadata": {},
   "outputs": [
    {
     "data": {
      "text/plain": [
       "['/Users/nirajsubedi/Downloads/data']"
      ]
     },
     "execution_count": 12,
     "metadata": {},
     "output_type": "execute_result"
    }
   ],
   "source": [
    "file_paths\n"
   ]
  },
  {
   "cell_type": "code",
   "execution_count": 13,
   "id": "339fa937",
   "metadata": {},
   "outputs": [],
   "source": [
    "schema = T.StructType([\n",
    "    T.StructField(\"FL_DATE\", T.TimestampType(), nullable=True),\n",
    "    T.StructField(\"OP_CARRIER\", T.StringType(), nullable=True),\n",
    "    T.StructField(\"OP_CARRIER_FL_NUM\", T.IntegerType(), nullable=True),\n",
    "    T.StructField(\"ORIGIN\", T.StringType(), nullable=True),\n",
    "    T.StructField(\"DEST\", T.StringType(), nullable=True),\n",
    "    T.StructField(\"CRS_DEP_TIME\", T.DoubleType(), nullable=True),\n",
    "    T.StructField(\"DEP_TIME\", T.DoubleType(), nullable=True),\n",
    "    T.StructField(\"DEP_DELAY\", T.DoubleType(), nullable=True),\n",
    "    T.StructField(\"TAXI_OUT\", T.DoubleType(), nullable=True),\n",
    "    T.StructField(\"WHEELS_OFF\", T.DoubleType(), nullable=True),\n",
    "    T.StructField(\"WHEELS_ON\", T.DoubleType(), nullable=True),\n",
    "    T.StructField(\"TAXI_IN\", T.DoubleType(), nullable=True),\n",
    "    T.StructField(\"CRS_ARR_TIME\", T.DoubleType(), nullable=True),\n",
    "    T.StructField(\"ARR_TIME\",T.DoubleType(), nullable=True),\n",
    "    T.StructField(\"ARR_DELAY\", T.DoubleType(), nullable=True),\n",
    "    T.StructField(\"CANCELLED\", T.DoubleType(), nullable=True),\n",
    "    T.StructField(\"CANCELLATION_CODE\", T.StringType(), nullable=True),\n",
    "    T.StructField(\"DIVERTED\", T.DoubleType(), nullable=True),\n",
    "    T.StructField(\"CRS_ELAPSED_TIME\", T.DoubleType(), nullable=True),\n",
    "    T.StructField(\"ACTUAL_ELAPSED_TIME\", T.DoubleType(), nullable=True),\n",
    "    T.StructField(\"AIR_TIME\", T.DoubleType(), nullable=True),   \n",
    "    T.StructField(\"DISTANCE\", T.DoubleType(), nullable=True),\n",
    "    T.StructField(\"CARRIER_DELAY\", T.DoubleType(), nullable=True),\n",
    "    T.StructField(\"WEATHER_DELAY\", T.DoubleType(), nullable=True),\n",
    "    T.StructField(\"NAS_DELAY\", T.DoubleType(), nullable=True),\n",
    "    T.StructField(\"SECURITY_DELAY\", T.DoubleType(), nullable=True),\n",
    "    T.StructField(\"LATE_AIRCRAFT_DELAY\", T.DoubleType(), nullable=True),\n",
    "    T.StructField(\"Unnamed: 27\", T.StringType(), nullable=True)\n",
    "    ])"
   ]
  },
  {
   "cell_type": "code",
   "execution_count": 14,
   "id": "ee7ec53b",
   "metadata": {},
   "outputs": [],
   "source": [
    "df = spark.read.schema(schema).format(\"csv\").option(\"header\", \"true\").load(file_paths)"
   ]
  },
  {
   "cell_type": "code",
   "execution_count": 15,
   "id": "7ab0b678",
   "metadata": {},
   "outputs": [],
   "source": [
    "# remove null values from the cols used for classification:\n",
    "df = df.dropna(subset= [\n",
    "    'FL_DATE',\n",
    " 'OP_CARRIER',\n",
    " 'OP_CARRIER_FL_NUM',\n",
    " 'ORIGIN',\n",
    " 'DEST',\n",
    " 'CRS_DEP_TIME',\n",
    " 'CRS_ARR_TIME',\n",
    " 'CANCELLED',\n",
    " 'DIVERTED',\n",
    " 'CRS_ELAPSED_TIME',\n",
    " 'DISTANCE'])\n",
    "\n",
    "# save df for analysis\n",
    "analysis_df = df"
   ]
  },
  {
   "cell_type": "code",
   "execution_count": 16,
   "id": "e725a8eb",
   "metadata": {},
   "outputs": [],
   "source": [
    "# drop the cols who indirectly indicate if a flight is canelled or not (apart from the column CANCELLED)\n",
    "# most of those cols contain null values, if the flight is cancelled\n",
    "\n",
    "classify_df = df.drop(\"Unnamed: 27\", \n",
    "                        \"CARRIER_DELAY\", \n",
    "                        \"WEATHER_DELAY\",\n",
    "                        \"NAS_DELAY\",\n",
    "                        \"SECURITY_DELAY\",\n",
    "                        \"LATE_AIRCRAFT_DELAY\",\n",
    "                        \"CANCELLATION_CODE\",\n",
    "                        \"DEP_TIME\",\n",
    "                        \"DEP_DELAY\",\n",
    "                        \"TAXI_OUT\",\n",
    "                        \"WHEELS_OFF\",\n",
    "                        \"WHEELS_ON\",\n",
    "                        \"TAXI_IN\",\n",
    "                        \"ARR_TIME\",\n",
    "                        \"ARR_DELAY\",\n",
    "                        \"ACTUAL_ELAPSED_TIME\", \n",
    "                        \"AIR_TIME\")"
   ]
  },
  {
   "cell_type": "code",
   "execution_count": 17,
   "id": "bfa58b25",
   "metadata": {},
   "outputs": [],
   "source": [
    "# numerical timestamp column\n",
    "classify_df = classify_df.withColumn(\"FL_DATE\", F.unix_timestamp(\"FL_DATE\"))"
   ]
  },
  {
   "cell_type": "code",
   "execution_count": 18,
   "id": "221e3d8a",
   "metadata": {},
   "outputs": [
    {
     "data": {
      "text/plain": [
       "['FL_DATE',\n",
       " 'OP_CARRIER',\n",
       " 'OP_CARRIER_FL_NUM',\n",
       " 'ORIGIN',\n",
       " 'DEST',\n",
       " 'CRS_DEP_TIME',\n",
       " 'CRS_ARR_TIME',\n",
       " 'CANCELLED',\n",
       " 'DIVERTED',\n",
       " 'CRS_ELAPSED_TIME',\n",
       " 'DISTANCE']"
      ]
     },
     "execution_count": 18,
     "metadata": {},
     "output_type": "execute_result"
    }
   ],
   "source": [
    "classify_df.columns"
   ]
  },
  {
   "cell_type": "code",
   "execution_count": 19,
   "id": "10bab810",
   "metadata": {},
   "outputs": [
    {
     "name": "stderr",
     "output_type": "stream",
     "text": [
      "                                                                                \r"
     ]
    }
   ],
   "source": [
    "# Take a subset: either balanced (with subsampling) or unbalanced\n",
    "# we take a subset, because of memory limitations\n",
    "\n",
    "# select subsample of positive samples\n",
    "pos_df = classify_df.filter(F.col('CANCELLED').isin(1)).sample(fraction=0.1)\n",
    "# select an equal amount of negative samples (number of neg samples == number of pos samples)\n",
    "neg_df = classify_df.filter(F.col('CANCELLED').isin(0)).orderBy(F.rand()).limit(pos_df.count())\n",
    "\n",
    "\n",
    "# balanced df - a subset - around 141k\n",
    "classify_df = pos_df.union(neg_df).sample(fraction=1.0).cache()\n",
    "\n",
    "# unbalanced df - but a subset - around 215k\n",
    "#classify_df = classify_df.sample(fraction=0.005).cache() \n"
   ]
  },
  {
   "cell_type": "code",
   "execution_count": 20,
   "id": "69e13da8",
   "metadata": {},
   "outputs": [],
   "source": [
    "#classify_df.rdd.countApprox(timeout = 1000,confidence = 0.90)\n"
   ]
  },
  {
   "cell_type": "code",
   "execution_count": 21,
   "id": "5dc754b3",
   "metadata": {},
   "outputs": [
    {
     "name": "stderr",
     "output_type": "stream",
     "text": [
      "                                                                                \r"
     ]
    },
    {
     "data": {
      "text/html": [
       "<div>\n",
       "<style scoped>\n",
       "    .dataframe tbody tr th:only-of-type {\n",
       "        vertical-align: middle;\n",
       "    }\n",
       "\n",
       "    .dataframe tbody tr th {\n",
       "        vertical-align: top;\n",
       "    }\n",
       "\n",
       "    .dataframe thead th {\n",
       "        text-align: right;\n",
       "    }\n",
       "</style>\n",
       "<table border=\"1\" class=\"dataframe\">\n",
       "  <thead>\n",
       "    <tr style=\"text-align: right;\">\n",
       "      <th></th>\n",
       "      <th>Carrier</th>\n",
       "      <th>count</th>\n",
       "    </tr>\n",
       "  </thead>\n",
       "  <tbody>\n",
       "    <tr>\n",
       "      <th>0</th>\n",
       "      <td>WN</td>\n",
       "      <td>7548632</td>\n",
       "    </tr>\n",
       "    <tr>\n",
       "      <th>1</th>\n",
       "      <td>DL</td>\n",
       "      <td>5226515</td>\n",
       "    </tr>\n",
       "    <tr>\n",
       "      <th>2</th>\n",
       "      <td>AA</td>\n",
       "      <td>4529233</td>\n",
       "    </tr>\n",
       "    <tr>\n",
       "      <th>3</th>\n",
       "      <td>OO</td>\n",
       "      <td>3914339</td>\n",
       "    </tr>\n",
       "    <tr>\n",
       "      <th>4</th>\n",
       "      <td>UA</td>\n",
       "      <td>3266162</td>\n",
       "    </tr>\n",
       "    <tr>\n",
       "      <th>5</th>\n",
       "      <td>EV</td>\n",
       "      <td>3040115</td>\n",
       "    </tr>\n",
       "    <tr>\n",
       "      <th>6</th>\n",
       "      <td>B6</td>\n",
       "      <td>1644655</td>\n",
       "    </tr>\n",
       "    <tr>\n",
       "      <th>7</th>\n",
       "      <td>MQ</td>\n",
       "      <td>1423199</td>\n",
       "    </tr>\n",
       "    <tr>\n",
       "      <th>8</th>\n",
       "      <td>AS</td>\n",
       "      <td>1095630</td>\n",
       "    </tr>\n",
       "    <tr>\n",
       "      <th>9</th>\n",
       "      <td>US</td>\n",
       "      <td>1025753</td>\n",
       "    </tr>\n",
       "  </tbody>\n",
       "</table>\n",
       "</div>"
      ],
      "text/plain": [
       "  Carrier    count\n",
       "0      WN  7548632\n",
       "1      DL  5226515\n",
       "2      AA  4529233\n",
       "3      OO  3914339\n",
       "4      UA  3266162\n",
       "5      EV  3040115\n",
       "6      B6  1644655\n",
       "7      MQ  1423199\n",
       "8      AS  1095630\n",
       "9      US  1025753"
      ]
     },
     "execution_count": 21,
     "metadata": {},
     "output_type": "execute_result"
    }
   ],
   "source": [
    "# get the most present flight carriers\n",
    "carriers_flight_count_df = analysis_df.groupBy(F.col('OP_CARRIER')).count().orderBy(F.col('count').desc())\n",
    "top_10 = carriers_flight_count_df.limit(10).toPandas()\n",
    "top_10 = top_10.rename(columns={'OP_CARRIER':'Carrier'})\n",
    "top_10"
   ]
  },
  {
   "cell_type": "code",
   "execution_count": 22,
   "id": "bf151d22",
   "metadata": {},
   "outputs": [
    {
     "name": "stderr",
     "output_type": "stream",
     "text": [
      "                                                                                \r"
     ]
    },
    {
     "data": {
      "text/html": [
       "<div>\n",
       "<style scoped>\n",
       "    .dataframe tbody tr th:only-of-type {\n",
       "        vertical-align: middle;\n",
       "    }\n",
       "\n",
       "    .dataframe tbody tr th {\n",
       "        vertical-align: top;\n",
       "    }\n",
       "\n",
       "    .dataframe thead th {\n",
       "        text-align: right;\n",
       "    }\n",
       "</style>\n",
       "<table border=\"1\" class=\"dataframe\">\n",
       "  <thead>\n",
       "    <tr style=\"text-align: right;\">\n",
       "      <th></th>\n",
       "      <th>CANCELLATION_CODE</th>\n",
       "      <th>count</th>\n",
       "    </tr>\n",
       "  </thead>\n",
       "  <tbody>\n",
       "    <tr>\n",
       "      <th>0</th>\n",
       "      <td>B</td>\n",
       "      <td>295350</td>\n",
       "    </tr>\n",
       "    <tr>\n",
       "      <th>1</th>\n",
       "      <td>D</td>\n",
       "      <td>603</td>\n",
       "    </tr>\n",
       "    <tr>\n",
       "      <th>2</th>\n",
       "      <td>C</td>\n",
       "      <td>118118</td>\n",
       "    </tr>\n",
       "    <tr>\n",
       "      <th>3</th>\n",
       "      <td>A</td>\n",
       "      <td>163919</td>\n",
       "    </tr>\n",
       "  </tbody>\n",
       "</table>\n",
       "</div>"
      ],
      "text/plain": [
       "  CANCELLATION_CODE   count\n",
       "0                 B  295350\n",
       "1                 D     603\n",
       "2                 C  118118\n",
       "3                 A  163919"
      ]
     },
     "execution_count": 22,
     "metadata": {},
     "output_type": "execute_result"
    }
   ],
   "source": [
    "# count number of cancellations per code/reason\n",
    "carriers_flight_count_df = analysis_df.filter(F.col('CANCELLATION_CODE').isNotNull()).groupBy(F.col('CANCELLATION_CODE')).count()\n",
    "cancellation_reasons = carriers_flight_count_df.toPandas()\n",
    "cancellation_reasons"
   ]
  },
  {
   "cell_type": "code",
   "execution_count": 23,
   "id": "4f7f7d97",
   "metadata": {},
   "outputs": [],
   "source": [
    "# rename col values\n",
    "cancellation_reasons['CANCELLATION_CODE'][cancellation_reasons['CANCELLATION_CODE'] == 'A'] = 'By carrier'\n",
    "cancellation_reasons['CANCELLATION_CODE'][cancellation_reasons['CANCELLATION_CODE'] == 'B'] = 'Due to weather'\n",
    "cancellation_reasons['CANCELLATION_CODE'][cancellation_reasons['CANCELLATION_CODE'] == 'C'] = 'By national air system'\n",
    "cancellation_reasons['CANCELLATION_CODE'][cancellation_reasons['CANCELLATION_CODE'] == 'D'] = 'For security'\n",
    "cancellation_reasons = cancellation_reasons.rename(columns={'CANCELLATION_CODE':'Reason'})"
   ]
  },
  {
   "cell_type": "code",
   "execution_count": 24,
   "id": "98840449",
   "metadata": {},
   "outputs": [
    {
     "data": {
      "text/html": [
       "<div>\n",
       "<style scoped>\n",
       "    .dataframe tbody tr th:only-of-type {\n",
       "        vertical-align: middle;\n",
       "    }\n",
       "\n",
       "    .dataframe tbody tr th {\n",
       "        vertical-align: top;\n",
       "    }\n",
       "\n",
       "    .dataframe thead th {\n",
       "        text-align: right;\n",
       "    }\n",
       "</style>\n",
       "<table border=\"1\" class=\"dataframe\">\n",
       "  <thead>\n",
       "    <tr style=\"text-align: right;\">\n",
       "      <th></th>\n",
       "      <th>Reason</th>\n",
       "      <th>count</th>\n",
       "    </tr>\n",
       "  </thead>\n",
       "  <tbody>\n",
       "    <tr>\n",
       "      <th>0</th>\n",
       "      <td>Due to weather</td>\n",
       "      <td>295350</td>\n",
       "    </tr>\n",
       "    <tr>\n",
       "      <th>1</th>\n",
       "      <td>For security</td>\n",
       "      <td>603</td>\n",
       "    </tr>\n",
       "    <tr>\n",
       "      <th>2</th>\n",
       "      <td>By national air system</td>\n",
       "      <td>118118</td>\n",
       "    </tr>\n",
       "    <tr>\n",
       "      <th>3</th>\n",
       "      <td>By carrier</td>\n",
       "      <td>163919</td>\n",
       "    </tr>\n",
       "  </tbody>\n",
       "</table>\n",
       "</div>"
      ],
      "text/plain": [
       "                   Reason   count\n",
       "0          Due to weather  295350\n",
       "1            For security     603\n",
       "2  By national air system  118118\n",
       "3              By carrier  163919"
      ]
     },
     "execution_count": 24,
     "metadata": {},
     "output_type": "execute_result"
    }
   ],
   "source": [
    "cancellation_reasons"
   ]
  },
  {
   "cell_type": "code",
   "execution_count": 25,
   "id": "584b5353",
   "metadata": {},
   "outputs": [],
   "source": [
    "# define StringIndexer: categorical (string) cols -> to column indices, \n",
    "# each category gets a integer based on their frequency (start from 0)\n",
    "\n",
    "carrier_indexer = StringIndexer(inputCol=\"OP_CARRIER\", outputCol=\"OP_CARRIER_Index\")\n",
    "origin_indexer = StringIndexer(inputCol=\"ORIGIN\", outputCol=\"ORIGIN_Index\")\n",
    "dest_indexer = StringIndexer(inputCol=\"DEST\", outputCol=\"DEST_Index\")"
   ]
  },
  {
   "cell_type": "code",
   "execution_count": 26,
   "id": "566b79ac",
   "metadata": {},
   "outputs": [],
   "source": [
    "# define onehotencoder for a index columns \n",
    "onehotencoder_carrier_vector = OneHotEncoder(inputCol=\"OP_CARRIER_Index\", outputCol=\"OP_CARRIER_vec\")\n",
    "onehotencoder_origin_vector = OneHotEncoder(inputCol=\"ORIGIN_Index\", outputCol=\"ORIGIN_vec\")\n",
    "onehotencoder_dest_vector = OneHotEncoder(inputCol=\"DEST_Index\", outputCol=\"DEST_vec\")"
   ]
  },
  {
   "cell_type": "code",
   "execution_count": 27,
   "id": "d2e33ccd",
   "metadata": {},
   "outputs": [
    {
     "name": "stderr",
     "output_type": "stream",
     "text": [
      "                                                                                \r"
     ]
    }
   ],
   "source": [
    "# Pipelining the preprocessing stages defined above \n",
    "pipeline = Pipeline(stages=[carrier_indexer, origin_indexer, dest_indexer,\n",
    "                            onehotencoder_carrier_vector, onehotencoder_origin_vector,\n",
    "                            onehotencoder_dest_vector])\n",
    "\n",
    "transformed_df = pipeline.fit(classify_df).transform(classify_df)"
   ]
  },
  {
   "cell_type": "code",
   "execution_count": 28,
   "id": "3b44b2e8",
   "metadata": {},
   "outputs": [],
   "source": [
    "# select columns that are combined to one feature column\n",
    "feature_columns = transformed_df.columns\n",
    "\n",
    "# remove cols that whould not be in our feature cols (label col, intermediate preprocessing cols)\n",
    "for item in [\"CANCELLED\", \"ORIGIN\", \"DEST\", \"OP_CARRIER\", \"OP_CARRIER_Index\", \"ORIGIN_Index\", \"DEST_Index\"]:\n",
    "    feature_columns.remove(item)\n",
    "\n",
    "\n",
    "assembler = VectorAssembler(inputCols=feature_columns, outputCol=\"features\")\n",
    "\n",
    "# build feature col\n",
    "assembled_df = assembler.transform(transformed_df)"
   ]
  },
  {
   "cell_type": "code",
   "execution_count": 29,
   "id": "8741cb3f",
   "metadata": {},
   "outputs": [],
   "source": [
    "# select only feature and label column\n",
    "final_classify_df = assembled_df.select(\"features\", F.col(\"CANCELLED\").alias(\"label\"))\n"
   ]
  },
  {
   "cell_type": "code",
   "execution_count": 30,
   "id": "ffe8eb35",
   "metadata": {},
   "outputs": [
    {
     "name": "stdout",
     "output_type": "stream",
     "text": [
      "root\n",
      " |-- features: vector (nullable = true)\n",
      " |-- label: double (nullable = true)\n",
      "\n"
     ]
    }
   ],
   "source": [
    "final_classify_df.printSchema()"
   ]
  },
  {
   "cell_type": "code",
   "execution_count": 31,
   "id": "e93d09e7",
   "metadata": {},
   "outputs": [],
   "source": [
    "train, test = final_classify_df.randomSplit([.7, .3], seed=9) # 70, 30 split on balanced set or on subset of samples"
   ]
  },
  {
   "cell_type": "code",
   "execution_count": 32,
   "id": "4f8f96a1",
   "metadata": {},
   "outputs": [],
   "source": [
    "#spark.catalog.clearCache()\n",
    "# caching data into memory - models run quicker\n",
    "train = train.repartition(32).cache()\n",
    "test = test.repartition(32).cache()"
   ]
  },
  {
   "cell_type": "code",
   "execution_count": 33,
   "id": "dfb28da5",
   "metadata": {},
   "outputs": [],
   "source": [
    "# define the models\n",
    "log_regress = LogisticRegression(labelCol = 'label', featuresCol = 'features')\n",
    "decision_tree = DecisionTreeClassifier(labelCol = 'label', featuresCol = 'features')\n",
    "rand_forest = RandomForestClassifier(labelCol = 'label', featuresCol = 'features')\n",
    "gbt = GBTClassifier(labelCol = 'label', featuresCol = 'features')"
   ]
  },
  {
   "cell_type": "code",
   "execution_count": 34,
   "id": "c4823029",
   "metadata": {},
   "outputs": [
    {
     "name": "stderr",
     "output_type": "stream",
     "text": [
      "                                                                                \r"
     ]
    }
   ],
   "source": [
    "log_regress_model = log_regress.fit(train)"
   ]
  },
  {
   "cell_type": "code",
   "execution_count": 35,
   "id": "abe67ad6",
   "metadata": {},
   "outputs": [
    {
     "name": "stderr",
     "output_type": "stream",
     "text": [
      "                                                                                \r"
     ]
    }
   ],
   "source": [
    "decision_tree_model = decision_tree.fit(train)"
   ]
  },
  {
   "cell_type": "code",
   "execution_count": 36,
   "id": "59e1dd40",
   "metadata": {},
   "outputs": [
    {
     "name": "stderr",
     "output_type": "stream",
     "text": [
      "                                                                                \r"
     ]
    }
   ],
   "source": [
    "rand_forest_model = rand_forest.fit(train)"
   ]
  },
  {
   "cell_type": "code",
   "execution_count": 37,
   "id": "c44bf0f8",
   "metadata": {},
   "outputs": [
    {
     "name": "stderr",
     "output_type": "stream",
     "text": [
      "                                                                                \r"
     ]
    }
   ],
   "source": [
    "gbt_model = gbt.fit(train)"
   ]
  },
  {
   "cell_type": "code",
   "execution_count": 38,
   "id": "b453d879",
   "metadata": {},
   "outputs": [],
   "source": [
    "# Predications on test set\n",
    "log_regress_predictions = log_regress_model.transform(test)\n",
    "decision_tree_predictions = decision_tree_model.transform(test)\n",
    "rand_forest_predictions = rand_forest_model.transform(test)\n",
    "gbt_predictions = gbt_model.transform(test)"
   ]
  },
  {
   "cell_type": "code",
   "execution_count": 39,
   "id": "f2acf97f",
   "metadata": {},
   "outputs": [],
   "source": [
    "# Define metrics to evaluate the models \n",
    "# ROC = areaUnderROC = Area under the Receiver Operating Characteristic (ROC) curve, \n",
    "# A curve that plots the TPR against the FPR. \n",
    "# The area under the ROC curve represents the probability that the model correctly ranks a randomly chosen positive instance higher than a randomly chosen negative instance.\n",
    "# A higher value of areaUnderROC indicates better model performance, with 1.0 being the maximum achievable value.\n",
    "evaluator_ROC = BinaryClassificationEvaluator(labelCol='label', metricName='areaUnderROC')\n",
    "\n",
    "# PR = areaUnderPR = Area Under the Precision-Recall curve\n",
    "# A curve that plots the precision (positive predictive value) against the recall (sensitivity). \n",
    "# The area under the precision-recall curve represents the trade-off between precision and recall. \n",
    "# A higher value of areaUnderPR indicates better model performance, with 1.0 being the maximum achievable value.\n",
    "evaluator_PR = BinaryClassificationEvaluator(labelCol='label', metricName='areaUnderPR')\n",
    "\n",
    "# Accuracy\n",
    "# in pyspark accuracy metrics is for multiclass-classification\n",
    "evaluator_Acc = MulticlassClassificationEvaluator(labelCol='label', metricName='accuracy')\n"
   ]
  },
  {
   "cell_type": "code",
   "execution_count": 61,
   "id": "255bf0e2",
   "metadata": {},
   "outputs": [
    {
     "name": "stderr",
     "output_type": "stream",
     "text": [
      "                                                                                \r"
     ]
    }
   ],
   "source": [
    "# set evaluations\n",
    "\n",
    "log_regress_ROC = evaluator_ROC.evaluate(log_regress_predictions)\n",
    "decision_tree_ROC = evaluator_ROC.evaluate(decision_tree_predictions)\n",
    "rand_forest_ROC = evaluator_ROC.evaluate(rand_forest_predictions)\n",
    "gbt_ROC = evaluator_ROC.evaluate(gbt_predictions)\n",
    "\n",
    "log_regress_PR = evaluator_PR.evaluate(log_regress_predictions)\n",
    "decision_tree_PR = evaluator_PR.evaluate(decision_tree_predictions)\n",
    "rand_forest_PR = evaluator_PR.evaluate(rand_forest_predictions)\n",
    "gbt_PR = evaluator_PR.evaluate(gbt_predictions)\n",
    "\n",
    "log_regress_Acc = evaluator_Acc.evaluate(log_regress_predictions)\n",
    "decision_tree_Acc = evaluator_Acc.evaluate(decision_tree_predictions)\n",
    "rand_forest_Acc = evaluator_Acc.evaluate(rand_forest_predictions)\n",
    "gbt_Acc = evaluator_Acc.evaluate(gbt_predictions)\n"
   ]
  },
  {
   "cell_type": "code",
   "execution_count": 64,
   "id": "433890e1",
   "metadata": {},
   "outputs": [
    {
     "name": "stdout",
     "output_type": "stream",
     "text": [
      "Metric results of the anaylsis\n",
      "Area under Receiver Operating Characteristic curve:\n",
      "Logistic Regression ROC: 0.7079\n",
      "Decision Tree ROC: 0.5097\n",
      "Random Forest ROC: 0.6704\n",
      "Gradient Boosted Trees ROC: 0.7292\n",
      "Area under Precision Recall curve:\n",
      "Logistic Regression PR: 0.6906\n",
      "Decision Tree PR: 0.4824\n",
      "Random Forest PR: 0.6619\n",
      "Gradient Boosted Trees PR: 0.7195\n",
      "Accuracy:\n",
      "Logistic Regression PR: 0.6493\n",
      "Decision Tree PR: 0.6157\n",
      "Random Forest PR: 0.6168\n",
      "Gradient Boosted Trees PR: 0.6638\n"
     ]
    }
   ],
   "source": [
    "# Print the metrics of each model - unbalanced dataset\n",
    "print('Metric results of the anaylsis')\n",
    "print('Area under Receiver Operating Characteristic curve:')\n",
    "print(\"Logistic Regression ROC: {:.4f}\".format(log_regress_ROC))\n",
    "print(\"Decision Tree ROC: {:.4f}\".format(decision_tree_ROC))\n",
    "print(\"Random Forest ROC: {:.4f}\".format(rand_forest_ROC))\n",
    "print(\"Gradient Boosted Trees ROC: {:.4f}\".format(gbt_ROC))\n",
    "\n",
    "print('Area under Precision Recall curve:')\n",
    "print(\"Logistic Regression PR: {:.4f}\".format(log_regress_PR))\n",
    "print(\"Decision Tree PR: {:.4f}\".format(decision_tree_PR))\n",
    "print(\"Random Forest PR: {:.4f}\".format(rand_forest_PR))\n",
    "print(\"Gradient Boosted Trees PR: {:.4f}\".format(gbt_PR))\n",
    "\n",
    "print('Accuracy:')\n",
    "print(\"Logistic Regression PR: {:.4f}\".format(log_regress_Acc))\n",
    "print(\"Decision Tree PR: {:.4f}\".format(decision_tree_Acc))\n",
    "print(\"Random Forest PR: {:.4f}\".format(rand_forest_Acc))\n",
    "print(\"Gradient Boosted Trees PR: {:.4f}\".format(gbt_Acc))"
   ]
  },
  {
   "cell_type": "code",
   "execution_count": 73,
   "id": "a4a25e9d",
   "metadata": {},
   "outputs": [
    {
     "data": {
      "image/png": "[encoded data removed]",
      "text/plain": [
       "<Figure size 800x600 with 2 Axes>"
      ]
     },
     "metadata": {},
     "output_type": "display_data"
    },
    {
     "data": {
      "image/png": "[encoded data removed]",
      "text/plain": [
       "<Figure size 800x600 with 2 Axes>"
      ]
     },
     "metadata": {},
     "output_type": "display_data"
    },
    {
     "data": {
      "image/png": "[encoded data removed]",
      "text/plain": [
       "<Figure size 800x600 with 2 Axes>"
      ]
     },
     "metadata": {},
     "output_type": "display_data"
    },
    {
     "name": "stderr",
     "output_type": "stream",
     "text": [
      "                                                                                \r"
     ]
    },
    {
     "data": {
      "image/png": "[encoded data removed]",
      "text/plain": [
       "<Figure size 800x600 with 2 Axes>"
      ]
     },
     "metadata": {},
     "output_type": "display_data"
    }
   ],
   "source": [
    "from sklearn.metrics import confusion_matrix\n",
    "import seaborn as sns\n",
    "import matplotlib.pyplot as plt\n",
    "\n",
    "\n",
    "\n",
    "# Confusion matrix for Logistic Regression\n",
    "log_regress_true_labels = log_regress_predictions.select('label').toPandas()\n",
    "log_regress_pred_labels = log_regress_predictions.select('prediction').toPandas()\n",
    "\n",
    "log_regress_cm = confusion_matrix(log_regress_true_labels, log_regress_pred_labels)\n",
    "\n",
    "plt.figure(figsize=(8, 6))\n",
    "sns.heatmap(log_regress_cm, annot=True, fmt='d', cmap='Blues')\n",
    "plt.title('Confusion Matrix - Logistic Regression')\n",
    "plt.xlabel('Predicted')\n",
    "plt.ylabel('True')\n",
    "plt.show()\n",
    "\n",
    "# Confusion matrix for Decision Tree\n",
    "decision_tree_true_labels = decision_tree_predictions.select('label').toPandas()\n",
    "decision_tree_pred_labels = decision_tree_predictions.select('prediction').toPandas()\n",
    "\n",
    "decision_tree_cm = confusion_matrix(decision_tree_true_labels, decision_tree_pred_labels)\n",
    "\n",
    "plt.figure(figsize=(8, 6))\n",
    "sns.heatmap(decision_tree_cm, annot=True, fmt='d', cmap='Greens')\n",
    "plt.title('Confusion Matrix - Decision Tree')\n",
    "plt.xlabel('Predicted')\n",
    "plt.ylabel('True')\n",
    "plt.show()\n",
    "\n",
    "# Confusion matrix for random forest Tree\n",
    "rand_forest_true_labels = rand_forest_predictions.select('label').toPandas()\n",
    "rand_forest_pred_labels = rand_forest_predictions.select('prediction').toPandas()\n",
    "\n",
    "rand_forest_cm = confusion_matrix(rand_forest_true_labels, rand_forest_pred_labels)\n",
    "\n",
    "plt.figure(figsize=(8, 6))\n",
    "sns.heatmap(rand_forest_cm, annot=True, fmt='d', cmap='Blues')\n",
    "plt.title('Confusion Matrix - Random Forest Tree')\n",
    "plt.xlabel('Predicted')\n",
    "plt.ylabel('True')\n",
    "plt.show()\n",
    "\n",
    "# Confusion matrix for random forest Tree\n",
    "gbt_Acc_true_labels = gbt_predictions.select('label').toPandas()\n",
    "gbt_Acc_pred_labels = gbt_predictions.select('prediction').toPandas()\n",
    "\n",
    "gbt_Acc_cm = confusion_matrix(rand_forest_true_labels, rand_forest_pred_labels)\n",
    "\n",
    "plt.figure(figsize=(8, 6))\n",
    "sns.heatmap(gbt_Acc_cm, annot=True, fmt='d', cmap='Greens')\n",
    "plt.title('Confusion Matrix - Gradient Boosted Trees')\n",
    "plt.xlabel('Predicted')\n",
    "plt.ylabel('True')\n",
    "plt.show()\n",
    "\n"
   ]
  },
  {
   "cell_type": "code",
   "execution_count": 50,
   "id": "49739faf",
   "metadata": {},
   "outputs": [
    {
     "data": {
      "image/png": "[encoded data removed]",
      "text/plain": [
       "<Figure size 800x600 with 1 Axes>"
      ]
     },
     "metadata": {},
     "output_type": "display_data"
    }
   ],
   "source": [
    "import seaborn as sns\n",
    "import matplotlib.pyplot as plt\n",
    "\n",
    "model_names = ['Logistic Regression', 'Decision Tree', 'Random Forest', 'Gradient Boosted Trees']\n",
    "accuracies = [log_regress_Acc, decision_tree_Acc, rand_forest_Acc, gbt_Acc]\n",
    "\n",
    "plt.figure(figsize=(8, 6))\n",
    "sns.barplot(x=accuracies, y=model_names, palette='viridis')\n",
    "plt.xlabel('Accuracy')\n",
    "plt.title('Model Accuracy Comparison')\n",
    "plt.xlim(0, 1)\n",
    "plt.show()\n",
    "\n"
   ]
  },
  {
   "cell_type": "code",
   "execution_count": 74,
   "id": "6dac0d9c",
   "metadata": {},
   "outputs": [
    {
     "data": {
      "image/png": "[encoded data removed]",
      "text/plain": [
       "<Figure size 1200x600 with 2 Axes>"
      ]
     },
     "metadata": {},
     "output_type": "display_data"
    }
   ],
   "source": [
    "\n",
    "\n",
    "# Create a list of models and their corresponding metric values\n",
    "models = ['Logistic Regression', 'Decision Tree', 'Random Forest', 'Gradient Boosted Trees']\n",
    "roc_values = [0.7079, 0.5097, 0.6704, 0.7292]\n",
    "pr_values = [0.6906, 0.4824, 0.6619, 0.7195]\n",
    "accuracy_values = [0.6493, 0.6157, 0.6168, 0.6638]\n",
    "\n",
    "# Create a DataFrame for the metrics\n",
    "import pandas as pd\n",
    "\n",
    "metrics_df = pd.DataFrame({'Model': models, \n",
    "                           'ROC': roc_values, \n",
    "                           'PR': pr_values, \n",
    "                           'Accuracy': accuracy_values})\n",
    "\n",
    "# Melt the DataFrame for better visualization\n",
    "metrics_df_melted = pd.melt(metrics_df, id_vars='Model', var_name='Metric', value_name='Value')\n",
    "\n",
    "# Create bar plots for each metric using seaborn\n",
    "plt.figure(figsize=(12, 6))\n",
    "\n",
    "# ROC Curve AUC\n",
    "plt.subplot(131)\n",
    "sns.barplot(x='Model', y='Value', hue='Metric', data=metrics_df_melted[metrics_df_melted['Metric'] == 'ROC'])\n",
    "plt.title('ROC Curve AUC')\n",
    "plt.ylim(0, 1)\n",
    "\n",
    "# Precision-Recall AUC\n",
    "plt.subplot(132)\n",
    "sns.barplot(x='Model', y='Value', hue='Metric', data=metrics_df_melted[metrics_df_melted['Metric'] == 'PR'])\n",
    "plt.title('Precision-Recall AUC')\n",
    "plt.ylim(0, 1)\n",
    "\n",
    "\n",
    "# Adjust plot layout\n",
    "plt.tight_layout()\n",
    "\n",
    "# Show the plots\n",
    "plt.show()\n"
   ]
  },
  {
   "cell_type": "code",
   "execution_count": null,
   "id": "42a13bf2",
   "metadata": {},
   "outputs": [],
   "source": []
  }
 ],
 "metadata": {
  "kernelspec": {
   "display_name": "Python 3 (ipykernel)",
   "language": "python",
   "name": "python3"
  },
  "language_info": {
   "codemirror_mode": {
    "name": "ipython",
    "version": 3
   },
   "file_extension": ".py",
   "mimetype": "text/x-python",
   "name": "python",
   "nbconvert_exporter": "python",
   "pygments_lexer": "ipython3",
   "version": "3.10.9"
  }
 },
 "nbformat": 4,
 "nbformat_minor": 5
}
